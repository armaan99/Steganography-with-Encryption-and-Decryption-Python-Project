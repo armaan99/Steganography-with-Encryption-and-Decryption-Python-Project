{
 "cells": [
  {
   "cell_type": "markdown",
   "metadata": {},
   "source": [
    "# Encryptor - Decryptor"
   ]
  },
  {
   "cell_type": "markdown",
   "metadata": {},
   "source": [
    "<b>Method to convert Decimal Number into Binary form - 8 bits representation</b>"
   ]
  },
  {
   "cell_type": "code",
   "execution_count": 1,
   "metadata": {},
   "outputs": [],
   "source": [
    "def decimalToBinary_8bits(decimal_num):\n",
    "    \n",
    "    # Converting decimal number to binary\n",
    "    binary_num = bin(decimal_num).replace(\"0b\", \"\")\n",
    "    \n",
    "    # To make a complete set of 8 binary digits\n",
    "    if(len(binary_num) < 8):\n",
    "        preceding_zeros_count = 8 - len(binary_num)\n",
    "        return '0'*preceding_zeros_count + binary_num\n",
    "    else:\n",
    "        return binary_num"
   ]
  },
  {
   "cell_type": "markdown",
   "metadata": {},
   "source": [
    "<b>Method to convert Decimal Number into Binary form - 4 bits representation</b>"
   ]
  },
  {
   "cell_type": "code",
   "execution_count": 2,
   "metadata": {},
   "outputs": [],
   "source": [
    "def decimalToBinary_4bits(decimal_num):\n",
    "    \n",
    "    # Converting decimal number to binary\n",
    "    binary_num = bin(decimal_num).replace(\"0b\", \"\")\n",
    "    \n",
    "    # To make a complete set of 4 binary digits\n",
    "    if(len(binary_num) < 4):\n",
    "        preceding_zeros_count = 4 - len(binary_num)\n",
    "        return '0'*preceding_zeros_count + binary_num\n",
    "    else:\n",
    "        return binary_num"
   ]
  },
  {
   "cell_type": "markdown",
   "metadata": {},
   "source": [
    "<b>Method to convert Binary Number into Decimal form</b>"
   ]
  },
  {
   "cell_type": "code",
   "execution_count": 3,
   "metadata": {},
   "outputs": [],
   "source": [
    "def binaryToDecimal(n):\n",
    "    \n",
    "    # Converting Binary number to Decimal\n",
    "    return int(n,2)"
   ]
  },
  {
   "cell_type": "markdown",
   "metadata": {},
   "source": [
    "<b>Encryption Method made by me</b>"
   ]
  },
  {
   "cell_type": "code",
   "execution_count": 4,
   "metadata": {},
   "outputs": [],
   "source": [
    "def encryption(mssg):\n",
    "    '''\n",
    "    Steps of encryption :\n",
    "    1) Finding ascii value of each letter\n",
    "    2) Converting that ascii into binary form in 8-bits representation\n",
    "    3) Taking pair of 4-bits\n",
    "    4) Converting them into decimal and adding 32 to it\n",
    "    5) Finding character for that ascii value\n",
    "    '''\n",
    "    \n",
    "    # Steps 1 and 2\n",
    "    bin_mssg = \"\"\n",
    "    for letter in mssg:\n",
    "        bin_mssg += decimalToBinary_8bits(ord(letter))\n",
    "    \n",
    "    # Step 3, 4 and 5\n",
    "    encrypted_mssg = \"\"\n",
    "    while bin_mssg != \"\":\n",
    "        encrypted_mssg += chr(binaryToDecimal(bin_mssg[0:4]) + 32)\n",
    "        bin_mssg = bin_mssg[4:]\n",
    "        \n",
    "    return encrypted_mssg"
   ]
  },
  {
   "cell_type": "markdown",
   "metadata": {},
   "source": [
    "<b>Decryption Method made by me</b>"
   ]
  },
  {
   "cell_type": "code",
   "execution_count": 5,
   "metadata": {},
   "outputs": [],
   "source": [
    "def decryption(mssg):\n",
    "    '''\n",
    "    Steps of decryption :\n",
    "    1) Finding ascii value of each letter and subtracting 32 from each\n",
    "    2) Converting that ascii into binary form in 4-bits representation\n",
    "    3) Taking pair of 8-bits\n",
    "    4) Converting them into decimal\n",
    "    5) Finding character for that ascii value\n",
    "    '''\n",
    "    \n",
    "    # Step 1 and 2\n",
    "    bin_mssg = \"\"\n",
    "    for index,letter in enumerate(mssg):\n",
    "        if mssg[index] == '\\\\' and mssg[index+1] == \"'\":\n",
    "            continue\n",
    "        else:\n",
    "            bin_mssg += decimalToBinary_4bits(ord(letter) - 32)\n",
    "            \n",
    "    # Step 3, 4 and 5\n",
    "    decrypted_mssg = \"\"\n",
    "    while bin_mssg != \"\":\n",
    "        decrypted_mssg += chr(binaryToDecimal(bin_mssg[0:8]))\n",
    "        bin_mssg = bin_mssg[8:]\n",
    "        \n",
    "    return decrypted_mssg"
   ]
  },
  {
   "cell_type": "markdown",
   "metadata": {},
   "source": [
    "# Hiding Message in Image"
   ]
  },
  {
   "cell_type": "markdown",
   "metadata": {},
   "source": [
    "<p><b>Steganography</b> : Steganography is the technique of hiding secret data within an ordinary, non-secret, file or message in order to avoid detection; the secret data is then extracted at its destination. The use of steganography can be combined with encryption as an extra step for hiding or protecting data.</p>\n",
    "\n",
    "<p><b>Installing Stegano library for Steganography</b></p>"
   ]
  },
  {
   "cell_type": "code",
   "execution_count": null,
   "metadata": {},
   "outputs": [],
   "source": [
    "!pip install Stegano"
   ]
  },
  {
   "cell_type": "markdown",
   "metadata": {},
   "source": [
    "<p><b>LSB-Steganography</b> is a steganography technique in which we hide messages inside an image by replacing Least significant bit of image with the bits of message to be hidden.\n",
    "</p>\n",
    "<p><b>Importing necessary library</b></p>"
   ]
  },
  {
   "cell_type": "code",
   "execution_count": 6,
   "metadata": {},
   "outputs": [],
   "source": [
    "from stegano import lsb"
   ]
  },
  {
   "cell_type": "markdown",
   "metadata": {},
   "source": [
    "<b>Taking message as an input from user</b>"
   ]
  },
  {
   "cell_type": "code",
   "execution_count": 7,
   "metadata": {},
   "outputs": [
    {
     "name": "stdout",
     "output_type": "stream",
     "text": [
      "Enter your message... Hello! how are you?\n"
     ]
    }
   ],
   "source": [
    "mssg = input(\"Enter your message... \")"
   ]
  },
  {
   "cell_type": "markdown",
   "metadata": {},
   "source": [
    "<b>Importing necessary libraries to pick an image</b>"
   ]
  },
  {
   "cell_type": "code",
   "execution_count": 8,
   "metadata": {},
   "outputs": [],
   "source": [
    "from IPython.display import display\n",
    "import fileupload"
   ]
  },
  {
   "cell_type": "markdown",
   "metadata": {},
   "source": [
    "<b>Picking a file and hiding message in it</b>"
   ]
  },
  {
   "cell_type": "code",
   "execution_count": 9,
   "metadata": {},
   "outputs": [
    {
     "data": {
      "application/vnd.jupyter.widget-view+json": {
       "model_id": "39ea917b88a347b2af12e3511da836f5",
       "version_major": 2,
       "version_minor": 0
      },
      "text/plain": [
       "FileUploadWidget(label='Browse', _dom_classes=('widget_item', 'btn-group'))"
      ]
     },
     "metadata": {},
     "output_type": "display_data"
    },
    {
     "name": "stdout",
     "output_type": "stream",
     "text": [
      "Cat.jpg\n"
     ]
    }
   ],
   "source": [
    "uploader = fileupload.FileUploadWidget()\n",
    "\n",
    "def _handle_upload(change):\n",
    "    fileUploadWidget = change['owner']\n",
    "    print(fileUploadWidget.filename)\n",
    "    with open(fileUploadWidget.filename, 'wb') as f:\n",
    "        f.write(fileUploadWidget.data)\n",
    "        \n",
    "    # Storing Message in Image    \n",
    "    img = lsb.hide(fileUploadWidget.filename, encryption(mssg))\n",
    "    # Saving secret message stored image file\n",
    "    img.save(\"secret_img.png\")\n",
    "\n",
    "uploader.observe(_handle_upload, names='data')\n",
    "display(uploader)"
   ]
  },
  {
   "cell_type": "markdown",
   "metadata": {},
   "source": [
    "<b>Checking for message hidden inside the secret image file and decrypting the message</b>"
   ]
  },
  {
   "cell_type": "code",
   "execution_count": 10,
   "metadata": {},
   "outputs": [
    {
     "data": {
      "text/plain": [
       "'Hello! how are you?'"
      ]
     },
     "execution_count": 10,
     "metadata": {},
     "output_type": "execute_result"
    }
   ],
   "source": [
    "decryption(lsb.reveal(\"secret_img.png\"))"
   ]
  }
 ],
 "metadata": {
  "kernelspec": {
   "display_name": "Python 3",
   "language": "python",
   "name": "python3"
  },
  "language_info": {
   "codemirror_mode": {
    "name": "ipython",
    "version": 3
   },
   "file_extension": ".py",
   "mimetype": "text/x-python",
   "name": "python",
   "nbconvert_exporter": "python",
   "pygments_lexer": "ipython3",
   "version": "3.7.4"
  }
 },
 "nbformat": 4,
 "nbformat_minor": 2
}
